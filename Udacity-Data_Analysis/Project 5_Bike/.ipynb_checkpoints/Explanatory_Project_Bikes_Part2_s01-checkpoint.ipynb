{
 "cells": [
  {
   "cell_type": "markdown",
   "metadata": {
    "slideshow": {
     "slide_type": "slide"
    }
   },
   "source": [
    "# Effects of Customers on Bike Rental Patterns\n",
    "## Data Exploration - Ford GoBike System Data Analysis\n",
    "### *Jhonatan Nagasako*\n",
    "#### *28-FEB-2021*"
   ]
  },
  {
   "cell_type": "markdown",
   "metadata": {
    "slideshow": {
     "slide_type": "slide"
    }
   },
   "source": [
    "# Introduction\n",
    "\n",
    "This notebook will focus on the **data EXPLORATION** of Ford GoBike System. Data source can be found via [Udacity provided link to Google Docs/Drive](https://docs.google.com/document/d/e/2PACX-1vQmkX4iOT6Rcrin42vslquX2_wQCjIa_hbwD0xmxrERPSOJYDtpNc_3wwK_p9_KpOsfA6QVyEHdxxq7/pub?embedded=True). \n",
    "\n",
    "This data set includes information about individual rides made in a bike-sharing system covering the greater San Francisco Bay area.\n",
    "* Note that this dataset will require some data wrangling in order to make it tidy for analysis. There are multiple cities covered by the linked system, and multiple data files will need to be joined together if a full year’s coverage is desired."
   ]
  },
  {
   "cell_type": "markdown",
   "metadata": {
    "slideshow": {
     "slide_type": "slide"
    }
   },
   "source": [
    "<u>Questions to consider:</u>\n",
    "1. As a customer, when is it a good time to schedule a bike ride to avoid the rush (high influx of customers)?\n",
    "2. As a shop owner, how should you strategically schedule your employees to ensure enough staff is present to assist customers?\n",
    "3. As a shop owner, how can I exploit customer renting patterns to adjust prices of rides (e.g., bike-use-time/hr) or create discounts?\n",
    "\n",
    "*The analysis endeavored below will address these questions, specifically in the conclusion section of this report*"
   ]
  },
  {
   "cell_type": "markdown",
   "metadata": {
    "slideshow": {
     "slide_type": "slide"
    }
   },
   "source": [
    "## Investigation Overview\n",
    "\n",
    "In this investigation in to the Ford GoBike system (i.e., bike renting service), I'm most interested in figuring out critical times and dates which high frequency of customers is expected. Thus, allowing strategies to be developed to create targeted marketing and lean staffing schedules.\n",
    "\n",
    "The following features that will have the strongest effect in developing these strategies is by analyzing\n",
    "1. Age\n",
    "2. Gender\n",
    "3. Ride duration\n",
    "4. Days bikes rented\n",
    "5. Times bikes rented\n",
    "    \n",
    "*New features were created for time and date as required. The final cleaned and tidied data was exported as a ```master.csv``` file, then read back into the report as a ```df```.*\n",
    "\n",
    "## Dataset Overview\n",
    "\n",
    "There are 183,215 ride entries in the dataset with 27 features (see above for details). Most variables are categorical in nature (specifically a data type of string). Data extraction of date, date day, and time (hr, min, etc.) was broken apart from the ```start_time``` and ```end_time```.\n",
    "    \n",
    "Also, the following assumptions were made for the data. First, the data only considers a two month span, Feb and Mar. secondly, the ride's start-days vs end-days were practically the same day. Lastly, the analysis of different locations which rides occurred is out of scope of this data project."
   ]
  },
  {
   "cell_type": "markdown",
   "metadata": {
    "slideshow": {
     "slide_type": "slide"
    }
   },
   "source": [
    "## Preliminary Wrangling"
   ]
  },
  {
   "cell_type": "markdown",
   "metadata": {
    "slideshow": {
     "slide_type": "slide"
    }
   },
   "source": [
    "<font color='orange'>\n",
    "\n",
    "### *__Please note to reader, details of any cleaning or tidying of the dataset can be seen in <a href=\"#assess\">Section 2 - Assessing Data (Cleaning and Tidying) of the Notebook Report (not shown in this slide show)</a>__*"
   ]
  },
  {
   "cell_type": "code",
   "execution_count": 1,
   "metadata": {
    "slideshow": {
     "slide_type": "skip"
    }
   },
   "outputs": [],
   "source": [
    "# import statements for all of the packages used for analysis\n",
    "\n",
    "import pandas as pd\n",
    "import numpy as np\n",
    "import matplotlib.pyplot as plt \n",
    "import seaborn as sns\n",
    "import statsmodels.api as sm;\n",
    "\n",
    "# Remember to include a 'magic word' so that your visualizations are plotted\n",
    "#   inline with the notebook. See this page for more:\n",
    "#   http://ipython.readthedocs.io/en/stable/interactive/magics.html\n",
    "\n",
    "%matplotlib inline"
   ]
  },
  {
   "cell_type": "code",
   "execution_count": null,
   "metadata": {
    "slideshow": {
     "slide_type": "subslide"
    }
   },
   "outputs": [],
   "source": [
    "# csv read into notebook again -- cleaned data\n",
    "df = pd.read_csv('master.csv')\n",
    "\n",
    "# high-level overview of data shape and composition\n",
    "print('\\n----Shape of File (row, column)---\\n')\n",
    "print(df.shape)\n",
    "print('\\n----Data Names---\\n')\n",
    "df.head(5)"
   ]
  },
  {
   "cell_type": "code",
   "execution_count": null,
   "metadata": {
    "slideshow": {
     "slide_type": "subslide"
    }
   },
   "outputs": [],
   "source": [
    "print('\\n----Basic Statitics of Dataframe---\\n')\n",
    "df.describe()"
   ]
  },
  {
   "cell_type": "markdown",
   "metadata": {
    "slideshow": {
     "slide_type": "slide"
    }
   },
   "source": [
    "##  Univariate Exploration"
   ]
  },
  {
   "cell_type": "markdown",
   "metadata": {
    "slideshow": {
     "slide_type": "slide"
    }
   },
   "source": [
    "## Figure 0 - Age Distribution of Riders\n",
    "\n",
    "1. The data was trimmed to 100 years old based on [research of oldest living person](https://www.google.com/search?q=oldest+person+alive&rlz=1C1GCEB_enUS893US893&oq=oldest+person&aqs=chrome.0.0i433j69i57j0l2j0i67j0l5.3255j0j7&sourceid=chrome&ie=UTF-8). As expected, that data is right skewed. Interestingly enough, the 95 percentiles was 55 years old, despite the maximum being 100 years old. The 5th percentile rider age was 22 years old. The mean age of riders (regardless of gender) was about 34.2 years old.\n",
    "2. No transformations additional transformations was required for the data analysis.\n",
    "3. There was ages with \"0 years old\" and also astronomically old ages calculated.\n",
    "4. Data was filtered to remove ages less than 1 years hold and trimmed to 100 year old (based on research of the [2010 U.S. Census Bureu](https://www.census.gov/prod/cen2010/briefs/c2010br-03.pdf)). Ages with 0 years old calculated is unlikely to have the ability to ride a bike... This was supported by the fact that the 5th percentile rider's age was 22 years old. Additionally, for the scope of this report 100 years old was chosen based on the fact that the 95th percentile rider's age was 55 years old."
   ]
  },
  {
   "cell_type": "code",
   "execution_count": null,
   "metadata": {
    "slideshow": {
     "slide_type": "skip"
    }
   },
   "outputs": [],
   "source": [
    "# get the information we need for age, days of week, and time used, define as df_opperunity\n",
    "# make a copy for futher manipulation\n",
    "df_oppertunity = df[['start_day_of_week', 'end_day_of_week', 'start_day', 'end_day', \n",
    "                    'start_hour', 'end_hour', 'duration_hr', 'duration_min',\n",
    "                   'member_birth_year', 'age', 'member_gender']].copy()\n",
    "df_oppertunity.head(2)"
   ]
  },
  {
   "cell_type": "code",
   "execution_count": null,
   "metadata": {
    "slideshow": {
     "slide_type": "skip"
    }
   },
   "outputs": [],
   "source": [
    "# close look at min age\n",
    "print('BEFORE Shape = ', df_oppertunity.shape)\n",
    "print('\\nBEFORE FILTER, Zero Count = ',df_oppertunity.age.isin([0]).sum())\n",
    "print('\\nBEFORE Basic stats of age\\n', df_oppertunity.age.describe())\n",
    "\n",
    "#filter out ZERO, create prototype set\n",
    "filter1 = df_oppertunity\n",
    "\n",
    "filter2 = filter1[filter1['age'] > 1]\n",
    "\n",
    "print('\\n\\n====ZERO REMOVAL PROCESSING=====\\n\\n')\n",
    "print('AFTER Shape = ', filter2.shape)\n",
    "print('\\nAFTER FILTER, Zero Count = ',filter2.age.isin([0]).sum())\n",
    "print('\\nAFTER Basic stats of age\\n', filter2.age.describe())"
   ]
  },
  {
   "cell_type": "code",
   "execution_count": null,
   "metadata": {
    "slideshow": {
     "slide_type": "skip"
    }
   },
   "outputs": [],
   "source": [
    "# start with a standard-scaled plot\n",
    "binsize = 2\n",
    "bins = np.arange(0, filter2['age'].max()+binsize, binsize)\n",
    "\n",
    "fig0 = plt.figure(figsize=[8, 5])\n",
    "\n",
    "plt.hist(filter2['age'], bins = bins)\n",
    "plt.xlim(0, 100)\n",
    "plt.ylim(0, 20000)\n",
    "plt.xticks(np.arange(0, 101, step=5))\n",
    "plt.xlabel('Age (Years)')\n",
    "plt.ylabel('Number of Riders')\n",
    "plt.title('Figure 0: Age Distribution of Riders', fontsize=20)\n",
    "\n",
    "# help adding mean line to plot\n",
    "# https://stackoverflow.com/questions/16180946/drawing-average-line-in-histogram-matplotlib\n",
    "plt.axvline(filter2.age.mean(), color='r', linestyle='dashed', linewidth=2)\n",
    "\n",
    "# confidence bounds\n",
    "# help: https://stackoverflow.com/questions/2374640/how-do-i-calculate-percentiles-with-python-numpy\n",
    "plt.axvline(np.percentile(filter2.age, 95), color='r', linewidth=2)\n",
    "plt.axvline(np.percentile(filter2.age, 5), color='r', linewidth=2)\n",
    "plt.show()\n",
    "\n",
    "# formating help: http://anh.cs.luc.edu/python/hands-on/3.1/handsonHtml/float.html\n",
    "# the mean and 95% confidence bounds\n",
    "print('The mean = {:.1f} Years Old'.format(filter2.age.mean()))\n",
    "# print('The 95th Percentile is {:.1f} and 5th Percentile is {:.1f}'.format((np.percentile(filter2.age, 95)), (np.percentile(filter2.age, 5)))\n",
    "print('The 5th Percentile = ',np.percentile(filter2.age, 5), 'Years old')\n",
    "print('The 95th Percentile = ',np.percentile(filter2.age, 95), 'Years old')"
   ]
  },
  {
   "cell_type": "code",
   "execution_count": null,
   "metadata": {
    "slideshow": {
     "slide_type": "subslide"
    }
   },
   "outputs": [],
   "source": [
    "# formating help: http://anh.cs.luc.edu/python/hands-on/3.1/handsonHtml/float.html\n",
    "# the mean and 95% confidence bounds\n",
    "print('The mean = {:.1f} Years Old'.format(filter2.age.mean()))\n",
    "# print('The 95th Percentile is {:.1f} and 5th Percentile is {:.1f}'.format((np.percentile(filter2.age, 95)), (np.percentile(filter2.age, 5)))\n",
    "print('The 5th Percentile = ',np.percentile(filter2.age, 5), 'Years old')\n",
    "print('The 95th Percentile = ',np.percentile(filter2.age, 95), 'Years old')\n",
    "\n",
    "display(fig0)"
   ]
  },
  {
   "cell_type": "markdown",
   "metadata": {
    "collapsed": true,
    "slideshow": {
     "slide_type": "slide"
    }
   },
   "source": [
    "## Figure 1 - Top Days to START a Bike Ride\n",
    "\n",
    "1. The day of the week was reviewed to determine what day had the highest in flux of customers. Most notably Tuesday through Thursday were the most popular days to rent bikes--Thursday being the most with 35176 customers overall. Conversely, Saturday through Monday were the least--Saturday being the least with 15,377 customers. \n",
    "2. No transformations additional transformations was required for the data analysis.\n",
    "3. It was unusual to see the weekend (Sat and Sun) as the lowest count of customers. As compared to Thursday, which is in the middle of the work week--perhaps the job title of customer should be collected to understand if customers are \"working professionals\" vs \"students\".\n",
    "4. No additional cleaning was required for the dataset after initial cleaning, details shown in *__<a href=\"#assess\">Section 2 - Assessing Data (Cleaning and Tidying)</a>__*"
   ]
  },
  {
   "cell_type": "code",
   "execution_count": null,
   "metadata": {
    "slideshow": {
     "slide_type": "skip"
    }
   },
   "outputs": [],
   "source": [
    "count_days = df_oppertunity.groupby('start_day_of_week')['start_day_of_week'].count().sort_values(ascending=False)\n",
    "count_days"
   ]
  },
  {
   "cell_type": "code",
   "execution_count": null,
   "metadata": {
    "slideshow": {
     "slide_type": "skip"
    }
   },
   "outputs": [],
   "source": [
    "# https://www.geeksforgeeks.org/bar-plot-in-matplotlib/\n",
    "    \n",
    "x = list(count_days.keys())\n",
    "xloc = count_days\n",
    "\n",
    "fig1 = plt.figure(figsize = (10,5))\n",
    "\n",
    "#creating the plot\n",
    "plt.bar(x, xloc)\n",
    "plt.xticks(rotation = 45) # Rotates X-Axis Ticks by 45-degrees\n",
    "\n",
    "plt.title('Figure 1: Top Days to START a Bike Ride', fontsize=20);\n",
    "plt.xlabel('Days of Week', weight='bold');\n",
    "plt.ylabel('Number of Riders', weight='bold');\n",
    "\n",
    "plt.show()\n",
    "\n",
    "print('Most popular to least popular days to rent bike\\n',count_days)"
   ]
  },
  {
   "cell_type": "code",
   "execution_count": null,
   "metadata": {
    "slideshow": {
     "slide_type": "subslide"
    }
   },
   "outputs": [],
   "source": [
    "print('Most popular to least popular days to rent bike\\n',count_days)\n",
    "display(fig1)"
   ]
  },
  {
   "cell_type": "markdown",
   "metadata": {
    "slideshow": {
     "slide_type": "slide"
    }
   },
   "source": [
    "## Figure 2 - Top Times to START a Bike Ride\n",
    "\n",
    "1. Unusual points seen with the data that there were customers renting bikes as late as 12am (925 customers) and early as 5am (896 customer--which was the min time count). The average of these two times compared to the 5pm (21,874 customers--which was the max time count), was almost 12 times least popular.\n",
    "2. No transformations additional transformations was required for the data analysis.  \n",
    "3. The top 5 times to rent bikes, in order: 5pm, 8am, 6pm, 9am, and 4pm. So looking at this dataset from a different perspective, popular morning times were between 8am-9am, then later in the afternoon/evening popular times were between 4pm-6pm.\n",
    "4. Additional cleaning of the time data was required. Initially this data was set as a string. The time string was then stripped to its hour portion."
   ]
  },
  {
   "cell_type": "code",
   "execution_count": null,
   "metadata": {
    "slideshow": {
     "slide_type": "skip"
    }
   },
   "outputs": [],
   "source": [
    "# strip start_hour to just hour portion\n",
    "df_strip = df_oppertunity\n",
    "df_strip['hours'] = df_strip['start_hour'].str.slice(stop=2)\n",
    "\n",
    "count_hours = df_strip.groupby('hours')['hours'].count().sort_values(ascending=False)[:20]\n",
    "count_hours"
   ]
  },
  {
   "cell_type": "code",
   "execution_count": null,
   "metadata": {
    "slideshow": {
     "slide_type": "skip"
    }
   },
   "outputs": [],
   "source": [
    "# https://www.geeksforgeeks.org/bar-plot-in-matplotlib/\n",
    "x = list(count_hours.keys())\n",
    "xloc = count_hours\n",
    "\n",
    "fig2 = plt.figure(figsize = (10,5))\n",
    "\n",
    "#creating the plot\n",
    "plt.bar(x, xloc)\n",
    "plt.xticks(rotation = 45) # Rotates X-Axis Ticks by 45-degrees\n",
    "\n",
    "plt.title('Figure 2: Top Times to START a Bike Ride', fontsize=20);\n",
    "plt.xlabel('Days of Week', weight='bold');\n",
    "plt.ylabel('Number of Riders', weight='bold');\n",
    "plt.axvline(x=4, color='r', linestyle='dashed', linewidth=2)\n",
    "plt.axvline(x=11, color='r', linestyle='dashed', linewidth=2)\n",
    "plt.show()\n",
    "\n",
    "#print('Most popular to least popular START times to rent bike\\n',count_hours)"
   ]
  },
  {
   "cell_type": "code",
   "execution_count": null,
   "metadata": {
    "slideshow": {
     "slide_type": "subslide"
    }
   },
   "outputs": [],
   "source": [
    "display(fig2)"
   ]
  },
  {
   "cell_type": "markdown",
   "metadata": {
    "slideshow": {
     "slide_type": "slide"
    }
   },
   "source": [
    "## Figure 3 - Top Times to END a Bike Ride\n",
    "\n",
    "1. Interestingly, the data distribution was almost the same as shown in Figure 2. The only difference in order was between, while data was sorted max to min, column 6 to column 11 (as shown by the red lines on the bar chart). This indicates that the time of rides were typically completed within the same hour.    \n",
    "2. No transformations additional transformations was required for the data analysis.\n",
    "3. Similarly, the data distribution was almost the same as shown in Figure 2. The only difference in order was between, while data was sorted max to min, column 6 to column 11 (as shown by the red lines on the bar chart).    \n",
    "4. Additional cleaning of the time data was required. Initially this data was set as a string. The time string was then stripped to its hour portion. This indicates that the time of rides were typically completed within the same hour. "
   ]
  },
  {
   "cell_type": "code",
   "execution_count": null,
   "metadata": {
    "slideshow": {
     "slide_type": "skip"
    }
   },
   "outputs": [],
   "source": [
    "# strip start_hour to just hour portion\n",
    "df_strip1 = df_oppertunity\n",
    "df_strip1['hours'] = df_strip1['end_hour'].str.slice(stop=2)\n",
    "\n",
    "count_hours1 = df_strip1.groupby('hours')['hours'].count().sort_values(ascending=False)[:20]\n",
    "\n",
    "#plotting\n",
    "x = list(count_hours1.keys())\n",
    "xloc = count_hours1\n",
    "\n",
    "fig3 = plt.figure(figsize = (10,5))\n",
    "\n",
    "#creating the plot\n",
    "plt.bar(x, xloc)\n",
    "plt.xticks(rotation = 45) # Rotates X-Axis Ticks by 45-degrees\n",
    "\n",
    "plt.title('Figure 3: Top Times to END a Bike Ride', fontsize=20);\n",
    "plt.xlabel('Days of Week', weight='bold');\n",
    "plt.ylabel('Number of Riders', weight='bold');\n",
    "plt.axvline(x=4, color='r', linestyle='dashed', linewidth=2)\n",
    "plt.axvline(x=11, color='r', linestyle='dashed', linewidth=2)\n",
    "plt.show()\n",
    "\n",
    "#print('Most popular to least popular END times to rent bike\\n',count_hours1)"
   ]
  },
  {
   "cell_type": "code",
   "execution_count": null,
   "metadata": {
    "slideshow": {
     "slide_type": "subslide"
    }
   },
   "outputs": [],
   "source": [
    "display(fig3)"
   ]
  },
  {
   "cell_type": "markdown",
   "metadata": {
    "slideshow": {
     "slide_type": "slide"
    }
   },
   "source": [
    "## Figure 4 - Time Spent Riding Bike\n",
    "\n",
    "1. This analysis was a verification step to the posit stated from the discussion of Figure 3. Figure 4 confirms that most ride durations on average was about 12.1 minutes long. The 5th percentile ride duration being 2.8 minutes, and the 95th percentile ride duration being 26.2 minutes. \n",
    "2. No transformations additional transformations was required for the data analysis.\n",
    "1. When review the feature of time, hours was not reviewed in greater detail because Figure 4 confirms that most ride durations on average was about 12.1 minutes long. In fact, the 5th percentile ride duration being 2.8 minutes, and the 95th percentile ride duration being 26.2 minutes. Therefore, it was more meaningful to do a distribution of ride duration as minutes instead of hours.\n",
    "2. No additional cleaning was required for the dataset after initial cleaning, details shown in *__<a href=\"#assess\">Section 2 - Assessing Data (Cleaning and Tidying)</a>__*    "
   ]
  },
  {
   "cell_type": "code",
   "execution_count": null,
   "metadata": {
    "slideshow": {
     "slide_type": "subslide"
    }
   },
   "outputs": [],
   "source": [
    "# take a look at stat distribution\n",
    "df_oppertunity.describe()"
   ]
  },
  {
   "cell_type": "code",
   "execution_count": null,
   "metadata": {
    "slideshow": {
     "slide_type": "skip"
    }
   },
   "outputs": [],
   "source": [
    "filter2 = df_oppertunity\n",
    "\n",
    "# start with a standard-scaled plot\n",
    "binsize = 2\n",
    "bins = np.arange(0, filter2['duration_min'].max()+binsize, binsize)\n",
    "\n",
    "fig4 = plt.figure(figsize=[8, 5])\n",
    "\n",
    "plt.hist(filter2['duration_min'], bins = bins)\n",
    "plt.xlim(0, 50)\n",
    "plt.ylim(0, 32000)\n",
    "plt.xticks(np.arange(0, 50, step=2))\n",
    "plt.xlabel('Time (Minuts)')\n",
    "plt.ylabel('Number of Riders')\n",
    "plt.title('Figure 4: Time Spent Riding Bike', fontsize=20)\n",
    "plt.xticks(rotation = 0) # Rotates X-Axis Ticks by 45-degrees\n",
    "\n",
    "# help adding mean line to plot\n",
    "# https://stackoverflow.com/questions/16180946/drawing-average-line-in-histogram-matplotlib\n",
    "plt.axvline(filter2.duration_min.mean(), color='r', linestyle='dashed', linewidth=2)\n",
    "\n",
    "# confidence bounds\n",
    "# help: https://stackoverflow.com/questions/2374640/how-do-i-calculate-percentiles-with-python-numpy\n",
    "plt.axvline(np.percentile(filter2.duration_min, 95), color='r', linewidth=2)\n",
    "plt.axvline(np.percentile(filter2.duration_min, 5), color='r', linewidth=2)\n",
    "plt.show()\n",
    "\n",
    "# formating help: http://anh.cs.luc.edu/python/hands-on/3.1/handsonHtml/float.html\n",
    "# the mean and 95% confidence bounds\n",
    "print('The mean = {:.1f} minutes'.format(filter2.duration_min.mean()))\n",
    "# print('The 95th Percentile is {:.1f} and 5th Percentile is {:.1f}'.format((np.percentile(filter2.age, 95)), (np.percentile(filter2.age, 5)))\n",
    "#the5th = np.percentile(filter2.duration_min, 5)\n",
    "print('The 5th Percentile = {:.1f} minutes long'.format(np.percentile(filter2.duration_min, 5)))\n",
    "print('The 95th Percentile = {:.1f} minutes long'.format(np.percentile(filter2.duration_min, 95)))"
   ]
  },
  {
   "cell_type": "code",
   "execution_count": null,
   "metadata": {
    "slideshow": {
     "slide_type": "subslide"
    }
   },
   "outputs": [],
   "source": [
    "# formating help: http://anh.cs.luc.edu/python/hands-on/3.1/handsonHtml/float.html\n",
    "# the mean and 95% confidence bounds\n",
    "print('The mean = {:.1f} minutes'.format(filter2.duration_min.mean()))\n",
    "# print('The 95th Percentile is {:.1f} and 5th Percentile is {:.1f}'.format((np.percentile(filter2.age, 95)), (np.percentile(filter2.age, 5)))\n",
    "#the5th = np.percentile(filter2.duration_min, 5)\n",
    "print('The 5th Percentile = {:.1f} minutes long'.format(np.percentile(filter2.duration_min, 5)))\n",
    "print('The 95th Percentile = {:.1f} minutes long'.format(np.percentile(filter2.duration_min, 95)))\n",
    "\n",
    "display(fig4)"
   ]
  },
  {
   "cell_type": "code",
   "execution_count": null,
   "metadata": {
    "slideshow": {
     "slide_type": "subslide"
    }
   },
   "outputs": [],
   "source": [
    "print('Distribution of Ride Duration - UNFILTERED\\n', filter2.duration_min.describe())\n",
    "print('\\n=================\\n')\n",
    "filter_30min = filter2[filter2['duration_min'] < 30]\n",
    "print('Distribution of Ride Duration - FILTERED\\n', filter_30min.duration_min.describe())"
   ]
  },
  {
   "cell_type": "markdown",
   "metadata": {
    "slideshow": {
     "slide_type": "slide"
    }
   },
   "source": [
    "## Bivariate Exploration"
   ]
  },
  {
   "cell_type": "markdown",
   "metadata": {
    "slideshow": {
     "slide_type": "slide"
    }
   },
   "source": [
    "## Figure 5 - Age Distribution of Different Genders"
   ]
  },
  {
   "cell_type": "code",
   "execution_count": null,
   "metadata": {
    "slideshow": {
     "slide_type": "skip"
    }
   },
   "outputs": [],
   "source": [
    "# create new df reference for prototyping\n",
    "filter1 = df_oppertunity\n",
    "\n",
    "# remove zeros from age data\n",
    "filter2 = filter1[filter1['age'] > 1]\n",
    "\n",
    "genderVSage = filter2.groupby('member_gender')['age'].count().sort_values(ascending=False)\n",
    "genderVSage.head(5)"
   ]
  },
  {
   "cell_type": "code",
   "execution_count": null,
   "metadata": {
    "slideshow": {
     "slide_type": "skip"
    }
   },
   "outputs": [],
   "source": [
    "fig5 = plt.figure(figsize = (8, 5))\n",
    "\n",
    "sns.boxplot(y='age', x='member_gender', data=filter2)\n",
    "\n",
    "plt.xlabel('Gender')\n",
    "plt.ylabel('Age (Years)')\n",
    "plt.title('Figure 5: Age Distribution of Different Genders', fontsize=20)\n",
    "plt.xticks(rotation = 0) # Rotates X-Axis Ticks by 45-degrees\n",
    "\n",
    "yMin = 0\n",
    "yMax = 101\n",
    "plt.ylim(yMin, yMax)\n",
    "plt.yticks(np.arange(yMin, yMax, step=5))\n",
    "# help: https://stats.stackexchange.com/questions/3476/how-to-name-the-ticks-in-a-python-matplotlib-boxplot\n",
    "plt.xticks([0, 1, 2], ['Male', 'Female', 'Other']) # Needs review\n",
    "\n",
    "# help adding mean line to plot\n",
    "# https://stackoverflow.com/questions/16180946/drawing-average-line-in-histogram-matplotlib\n",
    "plt.axhline(filter2.age.mean(), color='r', linestyle='dashed', linewidth=2)\n",
    "\n",
    "# confidence bounds\n",
    "# help: https://stackoverflow.com/questions/2374640/how-do-i-calculate-percentiles-with-python-numpy\n",
    "plt.axhline(np.percentile(filter2.age, 95), color='r', linewidth=2)\n",
    "plt.axhline(np.percentile(filter2.age, 5), color='r', linewidth=2)\n",
    "\n",
    "# text location and annotation notes\n",
    "# help: https://stackoverflow.com/questions/42877747/add-a-label-to-y-axis-to-show-the-value-of-y-for-a-horizontal-line-in-matplotlib\n",
    "# https://matplotlib.org/3.1.0/tutorials/text/text_intro.html\n",
    "plt.text(-0.25, 5, 'Red Lines are represent mean and 95% confidence bounds of Population', \n",
    "         style='italic', bbox={'facecolor': 'red', 'alpha': 0.5, 'pad': 5})\n",
    "\n",
    "plt.show()"
   ]
  },
  {
   "cell_type": "code",
   "execution_count": null,
   "metadata": {
    "slideshow": {
     "slide_type": "subslide"
    }
   },
   "outputs": [],
   "source": [
    "display(fig5)"
   ]
  },
  {
   "cell_type": "markdown",
   "metadata": {
    "slideshow": {
     "slide_type": "slide"
    }
   },
   "source": [
    "## Figure 6 - Duration of Ride Distribution of Different Genders"
   ]
  },
  {
   "cell_type": "code",
   "execution_count": null,
   "metadata": {
    "slideshow": {
     "slide_type": "skip"
    }
   },
   "outputs": [],
   "source": [
    "# leverage data frame from 'Gender vs Age'\n",
    "filter_30min = filter2[filter2['duration_min'] < 30]\n",
    "print('Distribution of Ride Duration - FILTERED\\n', filter_30min.duration_min.describe())\n",
    "\n",
    "# remove minutes OVER 30min, based on distrubtion data before\n",
    "assert filter_30min.duration_min.max() < 31, \"There's ride duration data that is NOT under 30 mins!\"\n",
    "\n",
    "\n",
    "# remove zeros from age data\n",
    "filter_30min_genderZero = filter_30min[filter_30min.member_gender.str.contains(r'[MaleFemaleOther]')]\n",
    "\n",
    "genderVSduration = filter_30min_genderZero.groupby('member_gender')['duration_min'].count().sort_values(ascending=False)\n",
    "genderVSduration.head(5)"
   ]
  },
  {
   "cell_type": "code",
   "execution_count": null,
   "metadata": {
    "slideshow": {
     "slide_type": "skip"
    }
   },
   "outputs": [],
   "source": [
    "fig6 = plt.figure(figsize = (8, 5))\n",
    "\n",
    "sns.boxplot(y='duration_min', x='member_gender', data=filter_30min_genderZero)\n",
    "\n",
    "plt.xlabel('Gender')\n",
    "plt.ylabel('Duration of Ride (Minutes)')\n",
    "plt.title('Figure 6: Duration of Ride Distribution of Different Genders', fontsize=20)\n",
    "plt.xticks(rotation = 0) # Rotates X-Axis Ticks by 45-degrees\n",
    "\n",
    "yMin = 0\n",
    "yMax = 31\n",
    "plt.ylim(yMin, yMax)\n",
    "plt.yticks(np.arange(yMin, yMax, step=2))\n",
    "# help: https://stats.stackexchange.com/questions/3476/how-to-name-the-ticks-in-a-python-matplotlib-boxplot\n",
    "plt.xticks([0, 1, 2], ['Male', 'Female', 'Other']) # Needs review\n",
    "\n",
    "# help adding mean line to plot\n",
    "# https://stackoverflow.com/questions/16180946/drawing-average-line-in-histogram-matplotlib\n",
    "plt.axhline(filter_30min_genderZero.duration_min.mean(), color='r', linestyle='dashed', linewidth=2)\n",
    "\n",
    "# help: https://matplotlib.org/3.1.0/tutorials/text/text_intro.html\n",
    "plt.text(-0.25, -5.5, 'Red Lines are represent mean and 95% confidence bounds of Population', \n",
    "         style='italic', bbox={'facecolor': 'red', 'alpha': 0.5, 'pad': 5})\n",
    "\n",
    "# confidence bounds\n",
    "# help: https://stackoverflow.com/questions/2374640/how-do-i-calculate-percentiles-with-python-numpy\n",
    "plt.axhline(np.percentile(filter_30min_genderZero.duration_min, 5), color='r', linewidth=2)\n",
    "plt.axhline(np.percentile(filter_30min_genderZero.duration_min, 95), color='r', linewidth=2)\n",
    "\n",
    "plt.show()"
   ]
  },
  {
   "cell_type": "code",
   "execution_count": null,
   "metadata": {
    "slideshow": {
     "slide_type": "subslide"
    }
   },
   "outputs": [],
   "source": [
    "display(fig6)"
   ]
  },
  {
   "cell_type": "markdown",
   "metadata": {
    "slideshow": {
     "slide_type": "slide"
    }
   },
   "source": [
    "### Discussion - Bivariate Exploration\n",
    "\n",
    "It was interesting to note that the few customers that identified their gender indicated a gender of \"other\". However, the data scientist respects the gender identity of those participating in the bike renting service.\n",
    "\n",
    "When reviewing gender to the age of the customer population, as shown in Figures 5, there appears no discernable difference between the different genders. The female population may be representative of the total mean of about 35 years old, and slightly higher when compared to male and other classifications. However, a t-test is required to confirm if these differences are statistically significant.\n",
    "\n",
    "When reviewing gender to the ride duration population, as shown in Figures 6, similarities in spread between female and other classifications was noted. Average ride time between female and other classifications being about 9.5 minutes. When comparing to the male population, the male group tended to have shorter rides. However, a standard t-test would need to be performed for confirmation."
   ]
  },
  {
   "cell_type": "code",
   "execution_count": null,
   "metadata": {
    "slideshow": {
     "slide_type": "subslide"
    }
   },
   "outputs": [],
   "source": [
    "display(fig5)\n",
    "display(fig6)"
   ]
  },
  {
   "cell_type": "markdown",
   "metadata": {
    "slideshow": {
     "slide_type": "slide"
    }
   },
   "source": [
    "## Multivariate Exploration"
   ]
  },
  {
   "cell_type": "markdown",
   "metadata": {
    "slideshow": {
     "slide_type": "slide"
    }
   },
   "source": [
    "## Figure 7 - Age Distribution of Different Genders\n",
    "\n"
   ]
  },
  {
   "cell_type": "code",
   "execution_count": null,
   "metadata": {
    "slideshow": {
     "slide_type": "skip"
    }
   },
   "outputs": [],
   "source": [
    "# get data and quick cleaning\n",
    "# make a copy for futher manipulation\n",
    "df_multivariate = df[['user_type', 'start_day_of_week', 'end_day_of_week', \n",
    "                     'start_hour', 'end_hour', 'member_gender' ]].copy()\n",
    "df_multivariate.head(2)"
   ]
  },
  {
   "cell_type": "code",
   "execution_count": null,
   "metadata": {
    "slideshow": {
     "slide_type": "skip"
    }
   },
   "outputs": [],
   "source": [
    "# strip start_hour to just hour portion\n",
    "df_multivariate['hours'] = df_multivariate['start_hour'].str.slice(stop=2)"
   ]
  },
  {
   "cell_type": "code",
   "execution_count": null,
   "metadata": {
    "slideshow": {
     "slide_type": "skip"
    }
   },
   "outputs": [],
   "source": [
    "# help categorical data\n",
    "# https://stackoverflow.com/questions/47255746/change-order-on-x-axis-for-matplotlib-chart\n",
    "# https://pandas.pydata.org/pandas-docs/stable/user_guide/categorical.html\n",
    "\n",
    "df_multivariate['ORDERED_DAYS'] = pd.Categorical(df_multivariate['start_day_of_week'], \n",
    "                                           categories=[\"SAT\", \"FRI\", \"THU\", \"WED\", \"TUES\", \"MON\", \"SUN\"], ordered=True)\n",
    "df_multivariate.head(2)"
   ]
  },
  {
   "cell_type": "code",
   "execution_count": null,
   "metadata": {
    "slideshow": {
     "slide_type": "skip"
    }
   },
   "outputs": [],
   "source": [
    "# color pallet help:\n",
    "# https://matplotlib.org/3.1.0/tutorials/colors/colormaps.html\n",
    "# color blindness considerations:\n",
    "# https://www.tableau.com/about/blog/2016/4/examining-data-viz-rules-dont-use-red-green-together-53463#:~:text=Use%20a%20colorblind%2Dfriendly%20palette%20when%20appropriate&text=For%20example%2C%20blue%2Forange%20is,blue%20to%20someone%20with%20CVD.\n",
    "fig7 = plt.figure(figsize=(15,10))\n",
    "\n",
    "plt.subplot(2, 1, 1)\n",
    "customers = df_multivariate.query('user_type == \"Customer\"')\n",
    "count1 = customers.groupby(['ORDERED_DAYS', 'hours']).size()\n",
    "count1 = count1.reset_index(name='count')\n",
    "count1 = count1.pivot(index='ORDERED_DAYS', columns='hours', values='count')\n",
    "\n",
    "# make plot blue/orange for folks that may be color blind\n",
    "sns.heatmap(count1, cmap=\"Oranges\");\n",
    "plt.title('CUSTOMER', loc='right', fontsize=15);\n",
    "plt.xlabel('Time Rented (24-hour Clock)', fontsize=10);\n",
    "plt.ylabel('Day of week', fontsize=10);\n",
    "plt.yticks(rotation = 45) # Rotates Axis Ticks\n",
    "\n",
    "plt.subplot(2, 1, 2)\n",
    "subscribers = df_multivariate.query('user_type == \"Subscriber\"')\n",
    "count2 = subscribers.groupby(['ORDERED_DAYS', 'hours']).size()\n",
    "count2 = count2.reset_index(name='count')\n",
    "count2 = count2.pivot(index='ORDERED_DAYS', columns='hours', values='count')\n",
    "\n",
    "# make plot blue/orange for folks that may be color blind\n",
    "sns.heatmap(count2, cmap=\"Blues\");\n",
    "plt.title('SUBSCRIBER', loc='right', fontsize=15);\n",
    "plt.xlabel('Time Rented (24-hour Clock)', fontsize=10);\n",
    "plt.ylabel('Day of week', fontsize=10);\n",
    "plt.yticks(rotation = 45) # Rotates Axis Ticks\n",
    "\n",
    "plt.subplots_adjust(top=0.91)\n",
    "plt.suptitle('Figure 7: Customer Subscription Type Review - Analysis of Day and Time Bikes Services Used', fontsize=20);"
   ]
  },
  {
   "cell_type": "code",
   "execution_count": null,
   "metadata": {
    "slideshow": {
     "slide_type": "subslide"
    }
   },
   "outputs": [],
   "source": [
    "display(fig7)"
   ]
  },
  {
   "cell_type": "markdown",
   "metadata": {
    "slideshow": {
     "slide_type": "slide"
    }
   },
   "source": [
    "## Figure 8 - Duration of Ride Distribution of Different Genders\n",
    "\n"
   ]
  },
  {
   "cell_type": "code",
   "execution_count": null,
   "metadata": {
    "slideshow": {
     "slide_type": "skip"
    }
   },
   "outputs": [],
   "source": [
    "# remove zeros from age data\n",
    "df_multivariate_genderZero = df_multivariate[df_multivariate.member_gender.str.contains(r'[MaleFemaleOther]')]\n",
    "df_multivariate_genderZero.head(2)"
   ]
  },
  {
   "cell_type": "code",
   "execution_count": null,
   "metadata": {
    "slideshow": {
     "slide_type": "skip"
    }
   },
   "outputs": [],
   "source": [
    "# color pallet help:\n",
    "# https://matplotlib.org/3.1.0/tutorials/colors/colormaps.html\n",
    "# color blindness considerations:\n",
    "# https://www.tableau.com/about/blog/2016/4/examining-data-viz-rules-dont-use-red-green-together-53463#:~:text=Use%20a%20colorblind%2Dfriendly%20palette%20when%20appropriate&text=For%20example%2C%20blue%2Forange%20is,blue%20to%20someone%20with%20CVD.\n",
    "fig8 = plt.figure(figsize=(15,13)) #was height was 15 in report\n",
    "\n",
    "######FIRST SUBPLOT#######\n",
    "plt.subplot(3, 1, 1)\n",
    "customers = df_multivariate_genderZero.query('member_gender == \"Male\"')\n",
    "count1 = customers.groupby(['ORDERED_DAYS', 'hours']).size()\n",
    "count1 = count1.reset_index(name='count')\n",
    "count1 = count1.pivot(index='ORDERED_DAYS', columns='hours', values='count')\n",
    "\n",
    "# make plot blue/orange for folks that may be color blind\n",
    "sns.heatmap(count1, cmap=\"Oranges\");\n",
    "plt.title('MALE', loc='right', fontsize=15);\n",
    "plt.xlabel('Time Rented (24-hour Clock)', fontsize=10);\n",
    "plt.ylabel('Day of week', fontsize=10);\n",
    "plt.yticks(rotation = 45) # Rotates Axis Ticks\n",
    "\n",
    "######SECOND SUBPLOT#######\n",
    "plt.subplot(3, 1, 2)\n",
    "subscribers = df_multivariate_genderZero.query('member_gender == \"Female\"')\n",
    "count2 = subscribers.groupby(['ORDERED_DAYS', 'hours']).size()\n",
    "count2 = count2.reset_index(name='count')\n",
    "count2 = count2.pivot(index='ORDERED_DAYS', columns='hours', values='count')\n",
    "\n",
    "# make plot blue/orange for folks that may be color blind\n",
    "sns.heatmap(count2, cmap=\"Blues\");\n",
    "plt.title('FEMALE', loc='right', fontsize=15);\n",
    "plt.xlabel('Time Rented (24-hour Clock)', fontsize=10);\n",
    "plt.ylabel('Day of week', fontsize=10);\n",
    "plt.yticks(rotation = 45) # Rotates Axis Ticks\n",
    "\n",
    "######THIRD SUBPLOT#######\n",
    "plt.subplot(3, 1, 3)\n",
    "customers = df_multivariate_genderZero.query('member_gender == \"Other\"')\n",
    "count1 = customers.groupby(['ORDERED_DAYS', 'hours']).size()\n",
    "count1 = count1.reset_index(name='count')\n",
    "count1 = count1.pivot(index='ORDERED_DAYS', columns='hours', values='count')\n",
    "\n",
    "# make plot blue/orange for folks that may be color blind\n",
    "sns.heatmap(count1, cmap=\"Greens\");\n",
    "plt.title('OTHER', loc='right', fontsize=15);\n",
    "plt.xlabel('Time Rented (24-hour Clock)', fontsize=10);\n",
    "plt.ylabel('Day of week', fontsize=10);\n",
    "plt.yticks(rotation = 45) # Rotates Axis Ticks\n",
    "\n",
    "#############\n",
    "plt.subplots_adjust(top=0.93)\n",
    "plt.suptitle('Figure 8: Gender Type Review - Analysis of Day and Time Bikes Services Used', fontsize=20);"
   ]
  },
  {
   "cell_type": "code",
   "execution_count": null,
   "metadata": {
    "slideshow": {
     "slide_type": "subslide"
    }
   },
   "outputs": [],
   "source": [
    "display(fig8)"
   ]
  },
  {
   "cell_type": "markdown",
   "metadata": {
    "slideshow": {
     "slide_type": "slide"
    }
   },
   "source": [
    "### Discussion - Multivariate Exploration"
   ]
  },
  {
   "cell_type": "markdown",
   "metadata": {
    "slideshow": {
     "slide_type": "slide"
    }
   },
   "source": [
    "#### Figure 2 and 7 Comparison and Observations\n",
    "\n",
    "Multivariate exploration of subscriber vs non-subscriber, in respects to time and day bikes were rented, verifies prior observations noted in univariate discussion. Comparing Figure 2 (the univariate analysis of the distribution of times when bikes were rented) to Figure 7, the multivariate analysis confirms that most customers tend to rent bikes between 8am-9am, then later in the afternoon/evening popular times were between 4pm-6pm. However, when making the count of customers as the z-axis, and plotting those counts on a time-rented to day-rented x-y plan, it is striking to see that this assertion applies generally to Wednesdays to Fridays. Furthermore, when comparing Figure 1 (the univariate analysis of the top days to rent bikes) the multivariate analysis shown in Figure 7 shows almost no riders renting bikes on Tuesdays (which was the second most popular day customers rented bikes)! This observation can be explored further in a future analysis of the data.\n",
    "    \n",
    "The observations noted above is applicable to both customer (non-subscriber) and subscriber riders. The only difference notated was that customer (or non-subscribers) tend to rent bikes more frequently on the weekends (Saturday and Sunday) as opposed to riders with a subscription."
   ]
  },
  {
   "cell_type": "code",
   "execution_count": null,
   "metadata": {
    "slideshow": {
     "slide_type": "subslide"
    }
   },
   "outputs": [],
   "source": [
    "display(fig2)"
   ]
  },
  {
   "cell_type": "code",
   "execution_count": null,
   "metadata": {
    "slideshow": {
     "slide_type": "subslide"
    }
   },
   "outputs": [],
   "source": [
    "display(fig7)"
   ]
  },
  {
   "cell_type": "code",
   "execution_count": null,
   "metadata": {
    "slideshow": {
     "slide_type": "subslide"
    }
   },
   "outputs": [],
   "source": [
    "display(fig8)"
   ]
  },
  {
   "cell_type": "markdown",
   "metadata": {
    "slideshow": {
     "slide_type": "slide"
    }
   },
   "source": [
    "#### Figure 7 and 8 Comparison and Observations\n",
    "\n",
    "Taking the extension of this analysis above and applying it to the identified genders in this study indicates similar heatmaps between males and females, as shown in Figure 8. The male and female heatmap, compared to Figure 7, tend to follow the heatmap pattern of a subscriber identification. The other gender classification tended to be more spread and did not have the same heatmap shape of the males and females. This may indicate that the other classification is a part of both the non-subscriber and subscriber identification groups. This observation can be explored further in a future analysis of the data."
   ]
  },
  {
   "cell_type": "code",
   "execution_count": null,
   "metadata": {
    "slideshow": {
     "slide_type": "subslide"
    }
   },
   "outputs": [],
   "source": [
    "display(fig7)"
   ]
  },
  {
   "cell_type": "code",
   "execution_count": null,
   "metadata": {
    "slideshow": {
     "slide_type": "subslide"
    }
   },
   "outputs": [],
   "source": [
    "display(fig8)"
   ]
  },
  {
   "cell_type": "markdown",
   "metadata": {
    "slideshow": {
     "slide_type": "slide"
    }
   },
   "source": [
    "# Conclusion"
   ]
  },
  {
   "cell_type": "markdown",
   "metadata": {
    "slideshow": {
     "slide_type": "slide"
    }
   },
   "source": [
    "In conclusion, when review the question asked at the initial phase of this study, the data scientist has the following recommendations for the following questions below:\n",
    "\n",
    "<u>Questions to consider and recommendations:</u>\n",
    "1. As a customer, when is it a good time to schedule a bike ride to avoid the rush (high influx of customers)?\n",
    "    - Customers that want to have a leisure ride with the least amount of people riding bikes should consider renting bikes on Saturdays and Sundays. \n"
   ]
  },
  {
   "cell_type": "markdown",
   "metadata": {
    "slideshow": {
     "slide_type": "subslide"
    }
   },
   "source": [
    "2. As a shop owner, how should you strategically schedule your employees to ensure enough staff is present to assist customers?\n",
    "    - The owner should consider having staff members ready for high customer rate seen between Wednesday to Thursdays. However, further data and analysis is required to determine if Tuesdays is truly a high frequency rental day. Discounts can be applied to Saturdays and Sundays to encourage customers to rent on the weekend."
   ]
  },
  {
   "cell_type": "markdown",
   "metadata": {
    "slideshow": {
     "slide_type": "subslide"
    }
   },
   "source": [
    "3. As a shop owner, how can I exploit customer renting patterns to adjust prices of rides (e.g., bike-use-time/hr) or create discounts?\n",
    "    - The owner can explore targeted advertisement to attract age groups around 18 and 25. Further data is required, but this age group may have potential revenue when review Figure 5. Additionally, targeted advertisement to genders may not be required because the spread of these types of customers are similar, albeit additional statistical t-tests are required to determine if this would in fact be significant. \n",
    "    - The shop owner should also consider and review internally why subscribers to bike services tend to rent bikes less on the weekends. Further data is required, but this lower renting participation rate from subscribers, as shown in Figure 7, maybe indicative that subscribers are working professionals that uses these bikes to work Monday-Friday."
   ]
  },
  {
   "cell_type": "markdown",
   "metadata": {
    "slideshow": {
     "slide_type": "slide"
    }
   },
   "source": [
    "# End of Data Project!\n",
    "\n",
    "Made with ❤️ by Jhon!"
   ]
  },
  {
   "cell_type": "markdown",
   "metadata": {
    "slideshow": {
     "slide_type": "subslide"
    }
   },
   "source": [
    "Further impovements include...\n",
    "1. Validation statements using ```assert``` clauses to confirm that data manipuation is correct during cleaning stage\n",
    "2. More plots exploring data\n",
    "3. Adding helpful annotations to plots\n",
    "4. Hypothesis Testing, to determine the statisticaly significance of various features (age, gender, etc.) to determine if different times/dates affect customer interaction\n",
    "5. Multivariate and univariate comparison and confirmation\n"
   ]
  }
 ],
 "metadata": {
  "celltoolbar": "Slideshow",
  "kernelspec": {
   "display_name": "Python 3",
   "language": "python",
   "name": "python3"
  },
  "language_info": {
   "codemirror_mode": {
    "name": "ipython",
    "version": 3
   },
   "file_extension": ".py",
   "mimetype": "text/x-python",
   "name": "python",
   "nbconvert_exporter": "python",
   "pygments_lexer": "ipython3",
   "version": "3.8.5"
  }
 },
 "nbformat": 4,
 "nbformat_minor": 2
}
