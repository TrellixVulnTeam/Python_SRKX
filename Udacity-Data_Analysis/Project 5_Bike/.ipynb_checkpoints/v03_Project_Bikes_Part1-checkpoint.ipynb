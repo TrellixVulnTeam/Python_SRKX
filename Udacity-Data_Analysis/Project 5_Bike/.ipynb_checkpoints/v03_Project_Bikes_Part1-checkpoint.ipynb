{
 "cells": [
  {
   "cell_type": "markdown",
   "metadata": {},
   "source": [
    "# UDACITY PROJECT 5 - FINAL PROJECT\n",
    "## Data Exploration - Ford GoBike System Data Analysis\n",
    "### *Jhonatan Nagasako*\n",
    "#### *28-FEB-2021*"
   ]
  },
  {
   "cell_type": "markdown",
   "metadata": {},
   "source": [
    "<hr size=\"5\"/>\n",
    "\n",
    "<a id='contents'></a>\n",
    "# Table of Contents\n",
    "\n",
    "<ul>\n",
    "<li><a href=\"#intro\">A. INTRODUCTION</a></li>\n",
    "<li><a href=\"#gather\">1. GATHERING DATA</a></li>\n",
    "<li><a href=\"#assess\">2. ASSESSING DATA</a></li>\n",
    "<li><a href=\"#clean\">3. CLEANING DATA</a></li>\n",
    "<li><a href=\"#store\">4. STORING DATA</a></li><br>\n",
    "\n",
    "<li><a href=\"#explore\">5. DATA EXPLORATION</a></li>\n",
    "5.1 <a href=\"#preliminary1\">[Exporation - Preliminary Review]</a><br>  \n",
    "5.2 <a href=\"#univariate1\">[Exporation - Univariate Exploration]</a><br>\n",
    "5.3 <a href=\"#bivariate1\">[Exporation - Bivariate Exploration]</a><br>\n",
    "5.4 <a href=\"#multivariate1\">[Exporation - Multivariate Exploration]</a><br><br>  \n",
    "\n",
    "<li><a href=\"#discussion\">6. DISCUSSION</a></li>\n",
    "6.1 <a href=\"#preliminary2\">[Discussion - Preliminary Review]</a><br>  \n",
    "6.2 <a href=\"#univariate2\">[Discussion - Univariate Exploration]</a><br>\n",
    "6.3 <a href=\"#bivariate2\">[Discussion - Bivariate Exploration]</a><br>\n",
    "6.4 <a href=\"#multivariate2\">[Discussion - Multivariate Exploration]</a><br><br>  \n",
    "\n",
    "<li><a href=\"#conclusion\">7. CONCLUSION</a></li>\n",
    "</ul>"
   ]
  },
  {
   "cell_type": "markdown",
   "metadata": {},
   "source": [
    "<hr size=\"5\"/>\n",
    "\n",
    "<a id='contents'></a>\n",
    "# Table of Contents (click link to section)\n",
    "\n",
    "<a href=\"#intro\">A. INTRODUCTION</a><br><br>\n",
    "<a href=\"#gather\">1. GATHERING DATA</a><br><br>\n",
    "<a href=\"#assess\">2. ASSESSING DATA</a><br><br>\n",
    "<a href=\"#clean\">3. CLEANING DATA</a><br><br>\n",
    "<a href=\"#store\">4. STORING DATA</a><br>\n",
    "\n",
    "<a href=\"#explore\">5. DATA EXPLORATION</a>    \n",
    "* 5.1 <a href=\"#preliminary1\">[Exporation - Preliminary Review]</a><br>\n",
    "* 5.2 <a href=\"#univariate1\">[Exporation - Univariate Exploration]</a><br>\n",
    "* 5.3 <a href=\"#bivariate1\">[Exporation - Bivariate Exploration]</a><br>\n",
    "* 5.4 <a href=\"#multivariate1\">[Exporation - Multivariate Exploration]</a><br>\n",
    "\n",
    "<a href=\"#discussion\">6. DISCUSSION</a><br> \n",
    "* 6.1 <a href=\"#preliminary2\">[Discussion - Preliminary Review]</a><br>\n",
    "* 6.2 <a href=\"#univariate2\">[Discussion - Univariate Exploration]</a><br>\n",
    "* 6.3 <a href=\"#bivariate2\">[Discussion - Bivariate Exploration]</a><br>\n",
    "* 6.4 <a href=\"#multivariate2\">[Discussion - Multivariate Exploration]</a><br>  \n",
    "\n",
    "<a href=\"#conclusion\">7. CONCLUSION</a>\n",
    "\n"
   ]
  },
  {
   "cell_type": "markdown",
   "metadata": {},
   "source": [
    "<hr size=\"5\"/>\n",
    "\n",
    "<a id='intro'></a>\n",
    "# A. INTRODUCTION\n",
    "\n",
    "This notebook will focus on the **data EXPLORATION** of Ford GoBike System. Data source can be found via [Udacity provided link to Google Docs/Drive](https://docs.google.com/document/d/e/2PACX-1vQmkX4iOT6Rcrin42vslquX2_wQCjIa_hbwD0xmxrERPSOJYDtpNc_3wwK_p9_KpOsfA6QVyEHdxxq7/pub?embedded=True). \n",
    "\n",
    "This data set includes information about individual rides made in a bike-sharing system covering the greater San Francisco Bay area.\n",
    "* Note that this dataset will require some data wrangling in order to make it tidy for analysis. There are multiple cities covered by the linked system, and multiple data files will need to be joined together if a full year’s coverage is desired.\n",
    "* Depending on scope of questions explored, additional data sources from other cities may be explored. Data can be accessed via [this page](https://www.google.com/url?q=https://www.bikeshare.com/data/&sa=D&source=editors&ust=1614518054096000&usg=AOvVaw38y_cueV0lTerb59CY7YsD) or [this page](https://www.google.com/url?q=https://github.com/BetaNYC/Bike-Share-Data-Best-Practices/wiki/Bike-Share-Data-Systems&sa=D&source=editors&ust=1614518054097000&usg=AOvVaw2OskG9ApXPoPZlezrpwmXp).\n",
    "\n",
    "<a href=\"#contents\">[Table of Contents]</a>"
   ]
  },
  {
   "cell_type": "markdown",
   "metadata": {},
   "source": [
    "<hr size=\"5\"/>\n",
    "<h5><center>📚 Gathering START -- Project START 📚</center></h5>        \n",
    "<hr size=\"5\"/>\n",
    "\n",
    "<a id='gather'></a>\n",
    "# 1. GATHERING DATA\n",
    "\n",
    "<font color=blue>\n",
    "\n",
    "<a href=\"#contents\">[Table of Contents]</a>"
   ]
  },
  {
   "cell_type": "markdown",
   "metadata": {},
   "source": []
  },
  {
   "cell_type": "markdown",
   "metadata": {},
   "source": []
  },
  {
   "cell_type": "markdown",
   "metadata": {},
   "source": [
    "<hr size=\"5\"/>\n",
    "<h5><center>🔎 Gathering END ➜ Assessing START 🔎</center></h5>        \n",
    "<hr size=\"5\"/>\n",
    "\n",
    "<a id='assess'></a>\n",
    "# 2. ASSESSING DATA\n",
    "\n",
    "<font color=blue>\n",
    "\n",
    "<a href=\"#contents\">[Table of Contents]</a>"
   ]
  },
  {
   "cell_type": "markdown",
   "metadata": {},
   "source": [
    "<font color='red'>\n",
    "\n",
    "<a id='todo'></a>\n",
    "## QUALITY (click hyperlink question to go to section in notebook!)\n",
    "\n",
    "<a href=\"#quality-section\">[Go to QUALITY section]</a>\n",
    "    \n",
    "1. <a href=\"#Q1\">[all dataframes --> Remove missing data column ```Unnamed: 0```]</a>\n",
    "    \n",
    "    \n",
    "2.     \n",
    "    \n",
    "\n",
    "\n",
    ">*At least eight (8) data quality issues and two (2) tidiness issues are detected, and include the issues to clean to satisfy the Project Motivation. Each issue is documented in one to a few sentences each.*\n",
    "    \n",
    ">>**Tips for Common Data Quality Issues**\n",
    ">>1. Missing data\n",
    "2. Invalide data (e.g., state a negative height, or other datatype validation errors--str vs int vs float, think there can only be 2 people in a room... not 2.54 people in a room... *unless there's ghosts lol*)\n",
    "3. Inaccurate data (e.g., specifying a foot = 5 inches, which is WRONG. A foot = 12 inches)\n",
    "4. Inconsistent data (e.g., mixing up units, some data captured as cm instead of inches)\n",
    "\n",
    "\n",
    "\n",
    "## TIDINESS\n",
    "    \n",
    "<a href=\"#tidy-section\">[Go to TIDY section]</a>\n",
    "    \n",
    "1. <a href=\"#T1\">[Combine all seperated tables, join by ```tweet_id```]</a>\n",
    "\n",
    "    \n",
    "2. \n",
    "\n",
    ">*At least eight (8) data quality issues and two (2) tidiness issues are detected, and include the issues to clean to satisfy the Project Motivation. Each issue is documented in one to a few sentences each.*\n",
    "    \n",
    ">>**Tips for Tidying**\n",
    ">>1. Each variable forms a column.\n",
    "2. Each observation forms a row.\n",
    "3. Each type of observational unit forms a table\n",
    "*Reference for [tidy data here](https://cran.r-project.org/web/packages/tidyr/vignettes/tidy-data.html)*\n",
    "    \n",
    "## FEATURE ENGINEEERING\n",
    "1. \n",
    "    \n",
    "<a href=\"#assess\">[Assessing Data Requirements]</a> <a href=\"#contents\">[Table of Contents]</a>"
   ]
  },
  {
   "cell_type": "markdown",
   "metadata": {},
   "source": [
    "<hr size=\"5\"/>\n",
    "<h5><center>🧹 Assessing END ➜ Cleaning START 🧹</center></h5>        \n",
    "<hr size=\"5\"/>\n",
    "\n",
    "<a id='clean'></a>\n",
    "# 3. CLEANING DATA\n",
    "\n",
    "<font color=blue>\n",
    "    \n",
    "   \n",
    "<a href=\"#todo\">[Cleaning and Tidying To-do List]</a> \n",
    "<a href=\"#contents\">[Table of Contents]</a>"
   ]
  },
  {
   "cell_type": "markdown",
   "metadata": {},
   "source": [
    "<a id='quality-section'></a>\n",
    "\n",
    "<font color='red'>\n",
    "    \n",
    "## QUALITY ISSUES ADDRESSED -- note that ```df``` will change to ```dfc``` to indicate cleaned data\n",
    "    \n",
    "<a href=\"#todo\">[Cleaning and Tidying To-do List]</a>"
   ]
  },
  {
   "cell_type": "markdown",
   "metadata": {},
   "source": [
    "<a id='Q1'></a>\n",
    "\n",
    "<font color='red'>\n",
    "\n",
    "### ✔️ 1. all dataframes --> Remove missing data column ```Unnamed: 0```\n",
    "\n",
    "<a href=\"#todo\">[Cleaning and Tidying To-do List]</a>"
   ]
  },
  {
   "cell_type": "markdown",
   "metadata": {},
   "source": [
    "<a id='tidy-section'></a>\n",
    "\n",
    "<font color='red'>\n",
    "\n",
    "## TIDINESS ISSUES ADDRESSED -- note that ```df``` will change to ```dfc``` to indicate cleaned data\n",
    "\n",
    "<a href=\"#clean\">[Cleaning Data Requirements]</a> \n",
    "<a href=\"#todo\">[Cleaning and Tidying To-do List]</a> \n",
    "<a href=\"#contents\">[Table of Contents]</a>"
   ]
  },
  {
   "cell_type": "markdown",
   "metadata": {},
   "source": [
    "<hr size=\"5\"/>\n",
    "<h5><center>💾 Cleaning END ➜ Storing START 💾</center></h5>        \n",
    "<hr size=\"5\"/>\n",
    "\n",
    "<a id='store'></a>\n",
    "# 4. STORING\n",
    "\n",
    "<font color=blue>\n",
    "    \n",
    "\n",
    "<a href=\"#store\">[Table of Contents]</a>"
   ]
  },
  {
   "cell_type": "markdown",
   "metadata": {},
   "source": [
    "<hr size=\"5\"/>\n",
    "<h5><center>🗺️ Storing END ➜ Data Exploration START 🗺️</center></h5>        \n",
    "<hr size=\"5\"/>\n",
    "\n",
    "<a id='explore'></a>\n",
    "# 5. DATA EXPLORATION\n",
    "\n",
    "<font color=blue>\n",
    "    \n",
    "<a href=\"#contents\">[Table of Contents]</a>\n",
    "\n",
    "<a href=\"#explore\">[#5 Data Exporation]</a><br>\n",
    "--- <a href=\"#preliminary1\">[Preliminary Review]</a>\n",
    "--- <a href=\"#univariate1\">[Univariate Exploration]</a>\n",
    "--- <a href=\"#bivariate1\">[Bivariate Exploration]</a>\n",
    "--- <a href=\"#multivariate1\">[Multivariate Exploration]</a> \n",
    "\n",
    "<a href=\"#discussion\">[#6 Discussion]</a><br>\n",
    "--- <a href=\"#preliminary2\">[Preliminary Review]</a>\n",
    "--- <a href=\"#univariate2\">[Univariate Exploration]</a>\n",
    "--- <a href=\"#bivariate2\">[Bivariate Exploration]</a>\n",
    "--- <a href=\"#multivariate2\">[Multivariate Exploration]</a> "
   ]
  },
  {
   "cell_type": "markdown",
   "metadata": {},
   "source": [
    "<a id='preliminary1'></a>\n",
    "## 5.1 Exploration - Preliminary Review\n",
    "\n",
    "<a href=\"#contents\">[Table of Contents]</a>\n",
    "\n",
    "<a href=\"#explore\">[#5 Data Exporation]</a><br> \n",
    "\n",
    "<a href=\"#discussion\">[#6 Discussion]</a><br>\n",
    "--- <a href=\"#preliminary2\">[6.1 Discussion - Preliminary Review]</a>"
   ]
  },
  {
   "cell_type": "markdown",
   "metadata": {},
   "source": [
    "<a id='univariate1'></a>\n",
    "## 5.2 Exploration - Univariate Exploration\n",
    "<a href=\"#contents\">[Table of Contents]</a>\n",
    "\n",
    "<a href=\"#explore\">[#5 Data Exporation]</a><br> \n",
    "\n",
    "<a href=\"#discussion\">[#6 Discussion]</a><br>\n",
    "--- <a href=\"#univariate2\">[6.2 Discussion - Univariate Exploration]</a>"
   ]
  },
  {
   "cell_type": "markdown",
   "metadata": {},
   "source": [
    "<a id='bivariate1'></a>\n",
    "## 5.3 Exploration - Bivariate Exploration\n",
    "<a href=\"#contents\">[Table of Contents]</a>\n",
    "\n",
    "<a href=\"#explore\">[#5 Data Exporation]</a><br>\n",
    "\n",
    "<a href=\"#discussion\">[#6 Discussion]</a><br>\n",
    "--- <a href=\"#bivariate2\">[6.3 Discussion - Bivariate Exploration]</a>"
   ]
  },
  {
   "cell_type": "markdown",
   "metadata": {},
   "source": [
    "<a id='multivariate1'></a>\n",
    "## 5.4 Exploration - Multivariate Exploration\n",
    "<a href=\"#contents\">[Table of Contents]</a>\n",
    "\n",
    "<a href=\"#explore\">[#5 Data Exporation]</a><br> \n",
    "\n",
    "<a href=\"#discussion\">[#6 Discussion]</a><br>\n",
    "--- <a href=\"#multivariate2\">[6.4 Discussion - Multivariate Exploration]</a> "
   ]
  },
  {
   "cell_type": "markdown",
   "metadata": {},
   "source": []
  },
  {
   "cell_type": "markdown",
   "metadata": {},
   "source": [
    "<hr size=\"5\"/>\n",
    "<h5><center>📊 Data Exploration END ➜ Discussion START 📊</center></h5>        \n",
    "<hr size=\"5\"/>\n",
    "\n",
    "<a id='discussion'></a>\n",
    "# 6. DISCUSSION\n",
    "\n",
    "<font color=blue>\n",
    "    \n",
    "<a href=\"#contents\">[Table of Contents]</a>\n",
    "\n",
    "<a href=\"#explore\">[#5 Data Exporation]</a><br>\n",
    "--- <a href=\"#preliminary1\">[Preliminary Review]</a>\n",
    "--- <a href=\"#univariate1\">[Univariate Exploration]</a>\n",
    "--- <a href=\"#bivariate1\">[Bivariate Exploration]</a>\n",
    "--- <a href=\"#multivariate1\">[Multivariate Exploration]</a> \n",
    "\n",
    "<a href=\"#discussion\">[#6 Discussion]</a><br>\n",
    "--- <a href=\"#preliminary2\">[Preliminary Review]</a>\n",
    "--- <a href=\"#univariate2\">[Univariate Exploration]</a>\n",
    "--- <a href=\"#bivariate2\">[Bivariate Exploration]</a>\n",
    "--- <a href=\"#multivariate2\">[Multivariate Exploration]</a> "
   ]
  },
  {
   "cell_type": "markdown",
   "metadata": {},
   "source": [
    "<a id='preliminary2'></a>\n",
    "## 6.1 Discussion - Preliminary Wrangling\n",
    "<a href=\"#contents\">[Table of Contents]</a>\n",
    "\n",
    "<a href=\"#explore\">[#5 Data Exporation]</a><br>\n",
    "--- <a href=\"#preliminary1\">[5.1 Exploration - Preliminary Review]</a>\n",
    "\n",
    "<a href=\"#discussion\">[#6 Discussion]</a><br>\n",
    "\n",
    "This document explores a dataset containing prices and attributes for approximately 54,000 round-cut diamonds.\n",
    "\n",
    "### What is the structure of your dataset?\n",
    "\n",
    "There are 53,940 diamonds in the dataset with 10 features (carat, cut, color, clarity, depth, table, price, x, y, and z). Most variables are numeric in nature, but the variables cut, color, and clarity are ordered factor variables with the following levels.\n",
    "\n",
    "(worst) ——> (best) <br>\n",
    "cut: Fair, Good, Very Good, Premium, Ideal <br>\n",
    "color: J, I, H, G, F, E, D <br>\n",
    "clarity: I1, SI2, SI1, VS2, VS1, VVS2, VVS1, IF\n",
    "\n",
    "### What is/are the main feature(s) of interest in your dataset?\n",
    "\n",
    "I'm most interested in figuring out what features are best for predicting the price of the diamonds in the dataset.\n",
    "\n",
    "### What features in the dataset do you think will help support your investigation into your feature(s) of interest?\n",
    "\n",
    "I expect that carat will have the strongest effect on each diamond's price: the larger the diamond, the higher the price. I also think that the other big \"C\"s of diamonds: cut, color, and clarity, will have effects on the price, though to a much smaller degree than the main effect of carat."
   ]
  },
  {
   "cell_type": "markdown",
   "metadata": {},
   "source": [
    "<a id='univariate2'></a>\n",
    "##  6.2 Discussion - Univariate Exploration\n",
    "\n",
    "<a href=\"#contents\">[Table of Contents]</a>\n",
    "\n",
    "<a href=\"#explore\">[#5 Data Exporation]</a><br>\n",
    "--- <a href=\"#univariate1\">[5.2 Exploration - Univariate Exploration]</a>\n",
    "\n",
    "<a href=\"#discussion\">[#6 Discussion]</a><br>\n",
    "\n",
    "I'll start by looking at the distribution of the main variable of interest: price.\n",
    "\n",
    "### Discuss the distribution(s) of your variable(s) of interest. Were there any unusual points? Did you need to perform any transformations?\n",
    "\n",
    "The price variable took on a large range of values, so I looked at the data using a log transform. Under the transformation, the data looked bimodal, with one peak between \\$500 and \\$1000, and another just below \\$5000.\n",
    "\n",
    "### Of the features you investigated, were there any unusual distributions? Did you perform any operations on the data to tidy, adjust, or change the form of the data? If so, why did you do this?\n",
    "\n",
    "When investigating the x, y, and z size variables, a number of outlier points were identified. Overall, these points can be characterized by an inconsistency between the recorded value of depth, and the value that would be derived from using x, y, and z. For safety, all of these points were removed from the dataset to move forwards."
   ]
  },
  {
   "cell_type": "markdown",
   "metadata": {},
   "source": [
    "<a id='bivariate2'></a>\n",
    "## 6.3 Discussion - Bivariate Exploration\n",
    "\n",
    "<a href=\"#contents\">[Table of Contents]</a>\n",
    "\n",
    "<a href=\"#explore\">[#5 Data Exporation]</a><br>\n",
    "--- <a href=\"#bivariate1\">[5.3 Exploration - Bivariate Exploration]</a>\n",
    "\n",
    "<a href=\"#discussion\">[#6 Discussion]</a><br>\n",
    "\n",
    "To start off with, I want to look at the pairwise correlations present between features in the data.\n",
    "\n",
    "### Talk about some of the relationships you observed in this part of the investigation. How did the feature(s) of interest vary with other features in the dataset?\n",
    "\n",
    "Price had a surprisingly high amount of correlation with the diamond size, even before transforming the features. An approximately linear relationship was observed when price was plotted on a log scale and carat was plotted with a cube-root transform. The scatterplot that came out of this also suggested that there was an upper bound on the diamond prices available in the dataset, since the range of prices for the largest diamonds was much narrower than would have been expected, based on the price ranges of smaller diamonds.\n",
    "\n",
    "There was also an interesting relationship observed between price and the categorical features. For all of cut, color, and clarity, lower prices were associated with increasing quality. One of the potentially major interacting factors is the fact that improved quality levels were also associated with smaller diamonds. This will have to be explored further in the next section.\n",
    "\n",
    "### Did you observe any interesting relationships between the other features (not the main feature(s) of interest)?\n",
    "\n",
    "Expected relationships were found in the association between the 'x', 'y', and 'z' measurements of diamonds to the other linear dimensions as well as to the 'carat' variable. A small negative correlation was observed between table size and depth, but neither of these variables show a strong correlation with price, so they won't be explored further. There was also a small interaction in the categorical quality features. Diamonds of lower clarity appear to have slightly better cut and color grades."
   ]
  },
  {
   "cell_type": "markdown",
   "metadata": {},
   "source": [
    "<a id='multivariate2'></a>\n",
    "## 6.4 Discussion - Multivariate Exploration\n",
    "\n",
    "<a href=\"#contents\">[Table of Contents]</a>\n",
    "\n",
    "<a href=\"#explore\">[#5 Data Exporation]</a><br>\n",
    "--- <a href=\"#multivariate1\">[5.4 Exploration - Multivariate Exploration]</a> \n",
    "\n",
    "<a href=\"#discussion\">[#6 Discussion]</a><br>\n",
    "\n",
    "The main thing I want to explore in this part of the analysis is how the three categorical measures of quality play into the relationship between price and carat.\n",
    "\n",
    "### Talk about some of the relationships you observed in this part of the investigation. Were there features that strengthened each other in terms of looking at your feature(s) of interest?\n",
    "\n",
    "I extended my investigation of price against diamond size in this section by looking at the impact of the three categorical quality features. The multivariate exploration here showed that there indeed is a positive effect of increased quality grade on diamond price, but in the dataset, this is initially hidden by the fact that higher grades were more prevalent in smaller diamonds, which fetch lower prices overall. Controlling for the carat weight of a diamond shows the effect of the other C's of diamonds more clearly. This effect was clearest for the color and clarity variables, with less systematic trends for cut.\n",
    "\n",
    "### Were there any interesting or surprising interactions between features?\n",
    "\n",
    "Looking back on the point plots, it doesn't seem like there's a systematic interaction effect between the three categorical features. However, the features also aren't fully independent. But it is interesting in something like the 1-carat plot for prices against cut and clarity, the shape of the 'cut' dots is fairly similar for the SI2 through VVS2 clarity levels."
   ]
  },
  {
   "cell_type": "code",
   "execution_count": null,
   "metadata": {},
   "outputs": [],
   "source": []
  },
  {
   "cell_type": "markdown",
   "metadata": {},
   "source": [
    "<hr size=\"5\"/>\n",
    "<h5><center>🍻 Discussion END ➜ Conclusion START 🍻</center></h5>        \n",
    "<hr size=\"5\"/>\n",
    "\n",
    "<a id='conclusion'></a>\n",
    "# 7. CONCLUSION\n",
    "\n",
    "\n",
    "<font color=blue>\n",
    "    \n",
    "<a href=\"#contents\">[Table of Contents]</a>\n",
    "\n",
    "<a href=\"#explore\">[#5 Data Exporation]</a><br>\n",
    "--- <a href=\"#preliminary1\">[Preliminary Review]</a>\n",
    "--- <a href=\"#univariate1\">[Univariate Exploration]</a>\n",
    "--- <a href=\"#bivariate1\">[Bivariate Exploration]</a>\n",
    "--- <a href=\"#multivariate1\">[Multivariate Exploration]</a> \n",
    "\n",
    "<a href=\"#discussion\">[#6 Discussion]</a><br>\n",
    "--- <a href=\"#preliminary2\">[Preliminary Review]</a>\n",
    "--- <a href=\"#univariate2\">[Univariate Exploration]</a>\n",
    "--- <a href=\"#bivariate2\">[Bivariate Exploration]</a>\n",
    "--- <a href=\"#multivariate2\">[Multivariate Exploration]</a> "
   ]
  },
  {
   "cell_type": "markdown",
   "metadata": {},
   "source": []
  },
  {
   "cell_type": "markdown",
   "metadata": {},
   "source": [
    "<hr size=\"5\"/>\n",
    "<h5><center>🏁 Conclusion END -- Project FINALE 🏁</center></h5>        \n",
    "<hr size=\"5\"/>\n",
    "\n",
    "# End of Data Project!\n",
    "\n",
    "Made with ❤️ by Jhon!\n",
    "\n",
    "Further impovements include...\n",
    "1. Validation statements using ```assert``` clauses to confirm that data manipuation is correct during cleaning stage\n",
    "2. More plots exploring data\n",
    "\n",
    "<a href=\"#contents\">[Table of Contents]</a>"
   ]
  }
 ],
 "metadata": {
  "kernelspec": {
   "display_name": "Python 3",
   "language": "python",
   "name": "python3"
  },
  "language_info": {
   "codemirror_mode": {
    "name": "ipython",
    "version": 3
   },
   "file_extension": ".py",
   "mimetype": "text/x-python",
   "name": "python",
   "nbconvert_exporter": "python",
   "pygments_lexer": "ipython3",
   "version": "3.8.5"
  }
 },
 "nbformat": 4,
 "nbformat_minor": 2
}
